{
 "cells": [
  {
   "cell_type": "code",
   "execution_count": 3,
   "id": "2c4fd506-c0d6-414e-82d3-aff366ca9a94",
   "metadata": {},
   "outputs": [
    {
     "name": "stdout",
     "output_type": "stream",
     "text": [
      "<class 'pandas.core.frame.DataFrame'>\n",
      "RangeIndex: 4772 entries, 0 to 4771\n",
      "Data columns (total 24 columns):\n",
      " #   Column                           Non-Null Count  Dtype \n",
      "---  ------                           --------------  ----- \n",
      " 0   Facility_Name                    4772 non-null   object\n",
      " 1   Facility_City                    4772 non-null   object\n",
      " 2   Facility_State                   4772 non-null   object\n",
      " 3   Facility_Type                    4772 non-null   object\n",
      " 4   Rating_Overall                   4772 non-null   int64 \n",
      " 5   Rating_Mortality                 4772 non-null   int64 \n",
      " 6   Rating_Safety                    4772 non-null   int64 \n",
      " 7   Rating_Readmission               4772 non-null   int64 \n",
      " 8   Rating_Experience                4772 non-null   int64 \n",
      " 9   Rating_Effectiveness             4772 non-null   int64 \n",
      " 10  Rating_Timeliness                4772 non-null   int64 \n",
      " 11  Rating_Imaging                   4772 non-null   int64 \n",
      " 12  Procedure_Heart_Attack_Cost      4772 non-null   int64 \n",
      " 13  Procedure_Heart_Attack_Quality   4772 non-null   int64 \n",
      " 14  Procedure_Heart_Attack_Value     4772 non-null   int64 \n",
      " 15  Procedure_Heart_Failure_Cost     4772 non-null   int64 \n",
      " 16  Procedure_Heart_Failure_Quality  4772 non-null   int64 \n",
      " 17  Procedure_Heart_Failure_Value    4772 non-null   int64 \n",
      " 18  Procedure_Pneumonia_Cost         4772 non-null   int64 \n",
      " 19  Procedure_Pneumonia_Quality      4772 non-null   int64 \n",
      " 20  Procedure_Pneumonia_Value        4772 non-null   int64 \n",
      " 21  Procedure_Hip_Knee_Cost          4772 non-null   int64 \n",
      " 22  Procedure_Hip_Knee_Quality       4772 non-null   int64 \n",
      " 23  Procedure_Hip_Knee_Value         4772 non-null   int64 \n",
      "dtypes: int64(20), object(4)\n",
      "memory usage: 894.9+ KB\n"
     ]
    }
   ],
   "source": [
    "import pandas as pd\n",
    "data=pd.read_csv('cleaned_hospitals.csv')\n",
    "data=data.dropna()\n",
    "data.info()"
   ]
  },
  {
   "cell_type": "code",
   "execution_count": 19,
   "id": "69e1148e-ef0c-4cde-b78c-a1897bbc0d32",
   "metadata": {},
   "outputs": [],
   "source": [
    "import pandas as pd\n",
    "from sklearn.preprocessing import LabelEncoder\n",
    "\n",
    "# Giả sử dữ liệu của bạn nằm trong DataFrame df\n",
    "df=pd.read_csv('cleaned_hospitals.csv')\n",
    "# Tạo đối tượng LabelEncoder\n",
    "le = LabelEncoder()\n",
    "\n",
    "# Danh sách các cột cần số hóa\n",
    "categorical_columns = [\n",
    "    'Rating_Mortality', 'Rating_Safety', 'Rating_Readmission', \n",
    "    'Rating_Experience', 'Rating_Effectiveness', 'Rating_Timeliness', \n",
    "    'Rating_Imaging', 'Procedure_Heart_Attack_Quality', \n",
    "    'Procedure_Heart_Failure_Quality', \n",
    "    'Procedure_Pneumonia_Quality', \n",
    "    'Procedure_Hip_Knee_Quality'\n",
    "]\n",
    "\n",
    "# Áp dụng LabelEncoder cho từng cột\n",
    "for col in categorical_columns:\n",
    "    df[col] = le.fit_transform(df[col])\n",
    "    \n",
    "# Tạo một từ điển để ánh xạ các giá trị\n",
    "value_mapping = {0: 'Unknown', 1: 'Lower', 2: 'Average', 3: 'Higher'}\n",
    "\n",
    "# Áp dụng thay thế giá trị cho các cột Value\n",
    "df['Procedure_Heart_Attack_Value'] = df['Procedure_Heart_Attack_Value'].replace(value_mapping)\n",
    "df['Procedure_Heart_Failure_Value'] = df['Procedure_Heart_Failure_Value'].replace(value_mapping)\n",
    "df['Procedure_Pneumonia_Value'] = df['Procedure_Pneumonia_Value'].replace(value_mapping)\n",
    "df['Procedure_Hip_Knee_Value'] = df['Procedure_Hip_Knee_Value'].replace(value_mapping)\n",
    "# Kiểm tra kết quả\n",
    "df=df.dropna()\n",
    "#Lưu dữ liệu\n",
    "df.to_csv('cleaned_hospitals.csv', index=False)\n"
   ]
  },
  {
   "cell_type": "code",
   "execution_count": 15,
   "id": "7b8624f6-da23-4335-b173-404c19839989",
   "metadata": {},
   "outputs": [
    {
     "name": "stdout",
     "output_type": "stream",
     "text": [
      "<class 'pandas.core.frame.DataFrame'>\n",
      "RangeIndex: 4772 entries, 0 to 4771\n",
      "Data columns (total 24 columns):\n",
      " #   Column                           Non-Null Count  Dtype \n",
      "---  ------                           --------------  ----- \n",
      " 0   Facility_Name                    4772 non-null   object\n",
      " 1   Facility_City                    4772 non-null   object\n",
      " 2   Facility_State                   4772 non-null   object\n",
      " 3   Facility_Type                    4772 non-null   object\n",
      " 4   Rating_Overall                   4772 non-null   int64 \n",
      " 5   Rating_Mortality                 4772 non-null   int64 \n",
      " 6   Rating_Safety                    4772 non-null   int64 \n",
      " 7   Rating_Readmission               4772 non-null   int64 \n",
      " 8   Rating_Experience                4772 non-null   int64 \n",
      " 9   Rating_Effectiveness             4772 non-null   int64 \n",
      " 10  Rating_Timeliness                4772 non-null   int64 \n",
      " 11  Rating_Imaging                   4772 non-null   int64 \n",
      " 12  Procedure_Heart_Attack_Cost      4772 non-null   int64 \n",
      " 13  Procedure_Heart_Attack_Quality   4772 non-null   int64 \n",
      " 14  Procedure_Heart_Attack_Value     4772 non-null   object\n",
      " 15  Procedure_Heart_Failure_Cost     4772 non-null   int64 \n",
      " 16  Procedure_Heart_Failure_Quality  4772 non-null   int64 \n",
      " 17  Procedure_Heart_Failure_Value    4772 non-null   object\n",
      " 18  Procedure_Pneumonia_Cost         4772 non-null   int64 \n",
      " 19  Procedure_Pneumonia_Quality      4772 non-null   int64 \n",
      " 20  Procedure_Pneumonia_Value        4772 non-null   object\n",
      " 21  Procedure_Hip_Knee_Cost          4772 non-null   int64 \n",
      " 22  Procedure_Hip_Knee_Quality       4772 non-null   int64 \n",
      " 23  Procedure_Hip_Knee_Value         4772 non-null   int64 \n",
      "dtypes: int64(17), object(7)\n",
      "memory usage: 894.9+ KB\n"
     ]
    }
   ],
   "source": [
    "df.info()"
   ]
  },
  {
   "cell_type": "code",
   "execution_count": null,
   "id": "377ca332-3abc-4aae-9d28-cb6dec7b4134",
   "metadata": {},
   "outputs": [],
   "source": []
  }
 ],
 "metadata": {
  "kernelspec": {
   "display_name": "Python 3 (ipykernel)",
   "language": "python",
   "name": "python3"
  },
  "language_info": {
   "codemirror_mode": {
    "name": "ipython",
    "version": 3
   },
   "file_extension": ".py",
   "mimetype": "text/x-python",
   "name": "python",
   "nbconvert_exporter": "python",
   "pygments_lexer": "ipython3",
   "version": "3.12.4"
  }
 },
 "nbformat": 4,
 "nbformat_minor": 5
}
