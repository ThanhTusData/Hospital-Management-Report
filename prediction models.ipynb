{
 "cells": [
  {
   "cell_type": "code",
   "execution_count": 1,
   "id": "f64267d3-2f05-47dd-97b5-b4a7447f3d62",
   "metadata": {},
   "outputs": [
    {
     "name": "stdout",
     "output_type": "stream",
     "text": [
      "<class 'pandas.core.frame.DataFrame'>\n",
      "RangeIndex: 4772 entries, 0 to 4771\n",
      "Data columns (total 24 columns):\n",
      " #   Column                           Non-Null Count  Dtype \n",
      "---  ------                           --------------  ----- \n",
      " 0   Facility_Name                    4772 non-null   object\n",
      " 1   Facility_City                    4772 non-null   object\n",
      " 2   Facility_State                   4772 non-null   object\n",
      " 3   Facility_Type                    4772 non-null   object\n",
      " 4   Rating_Overall                   4772 non-null   int64 \n",
      " 5   Rating_Mortality                 3397 non-null   object\n",
      " 6   Rating_Safety                    2630 non-null   object\n",
      " 7   Rating_Readmission               3872 non-null   object\n",
      " 8   Rating_Experience                3432 non-null   object\n",
      " 9   Rating_Effectiveness             3834 non-null   object\n",
      " 10  Rating_Timeliness                3759 non-null   object\n",
      " 11  Rating_Imaging                   3054 non-null   object\n",
      " 12  Procedure_Heart_Attack_Cost      4772 non-null   int64 \n",
      " 13  Procedure_Heart_Attack_Quality   4772 non-null   object\n",
      " 14  Procedure_Heart_Attack_Value     4772 non-null   object\n",
      " 15  Procedure_Heart_Failure_Cost     4772 non-null   int64 \n",
      " 16  Procedure_Heart_Failure_Quality  4772 non-null   object\n",
      " 17  Procedure_Heart_Failure_Value    4772 non-null   object\n",
      " 18  Procedure_Pneumonia_Cost         4772 non-null   int64 \n",
      " 19  Procedure_Pneumonia_Quality      4772 non-null   object\n",
      " 20  Procedure_Pneumonia_Value        4772 non-null   object\n",
      " 21  Procedure_Hip_Knee_Cost          4772 non-null   int64 \n",
      " 22  Procedure_Hip_Knee_Quality       4772 non-null   object\n",
      " 23  Procedure_Hip_Knee_Value         4772 non-null   object\n",
      "dtypes: int64(5), object(19)\n",
      "memory usage: 894.9+ KB\n"
     ]
    }
   ],
   "source": [
    "import pandas as pd\n",
    "data=pd.read_csv('cleaned_hospitals.csv')\n",
    "data.info()"
   ]
  },
  {
   "cell_type": "code",
   "execution_count": 2,
   "id": "003e7a4d-1a62-46e2-9f4a-b2a87ffe98c7",
   "metadata": {},
   "outputs": [
    {
     "data": {
      "text/plain": [
       "array(['Same', 'Below', nan, 'Above'], dtype=object)"
      ]
     },
     "execution_count": 2,
     "metadata": {},
     "output_type": "execute_result"
    }
   ],
   "source": [
    "data['Rating_Imaging'].unique()"
   ]
  },
  {
   "cell_type": "code",
   "execution_count": 3,
   "id": "fe6f58bc-be51-4701-ab5c-84c0363f032f",
   "metadata": {},
   "outputs": [
    {
     "name": "stdout",
     "output_type": "stream",
     "text": [
      "<class 'pandas.core.frame.DataFrame'>\n",
      "Index: 2365 entries, 0 to 4758\n",
      "Data columns (total 24 columns):\n",
      " #   Column                           Non-Null Count  Dtype \n",
      "---  ------                           --------------  ----- \n",
      " 0   Facility_Name                    2365 non-null   object\n",
      " 1   Facility_City                    2365 non-null   object\n",
      " 2   Facility_State                   2365 non-null   object\n",
      " 3   Facility_Type                    2365 non-null   object\n",
      " 4   Rating_Overall                   2365 non-null   int64 \n",
      " 5   Rating_Mortality                 2365 non-null   object\n",
      " 6   Rating_Safety                    2365 non-null   object\n",
      " 7   Rating_Readmission               2365 non-null   object\n",
      " 8   Rating_Experience                2365 non-null   object\n",
      " 9   Rating_Effectiveness             2365 non-null   object\n",
      " 10  Rating_Timeliness                2365 non-null   object\n",
      " 11  Rating_Imaging                   2365 non-null   object\n",
      " 12  Procedure_Heart_Attack_Cost      2365 non-null   int64 \n",
      " 13  Procedure_Heart_Attack_Quality   2365 non-null   object\n",
      " 14  Procedure_Heart_Attack_Value     2365 non-null   object\n",
      " 15  Procedure_Heart_Failure_Cost     2365 non-null   int64 \n",
      " 16  Procedure_Heart_Failure_Quality  2365 non-null   object\n",
      " 17  Procedure_Heart_Failure_Value    2365 non-null   object\n",
      " 18  Procedure_Pneumonia_Cost         2365 non-null   int64 \n",
      " 19  Procedure_Pneumonia_Quality      2365 non-null   object\n",
      " 20  Procedure_Pneumonia_Value        2365 non-null   object\n",
      " 21  Procedure_Hip_Knee_Cost          2365 non-null   int64 \n",
      " 22  Procedure_Hip_Knee_Quality       2365 non-null   object\n",
      " 23  Procedure_Hip_Knee_Value         2365 non-null   object\n",
      "dtypes: int64(5), object(19)\n",
      "memory usage: 461.9+ KB\n"
     ]
    }
   ],
   "source": [
    "data=data.dropna()\n",
    "data.info()"
   ]
  },
  {
   "cell_type": "code",
   "execution_count": 4,
   "id": "384a463f-48f8-40ba-b3e9-821ec14642c3",
   "metadata": {},
   "outputs": [],
   "source": [
    "import warnings\n",
    "import pandas as pd\n",
    "from sklearn.preprocessing import StandardScaler\n",
    "from sklearn.cluster import KMeans, DBSCAN\n",
    "from sklearn.ensemble import RandomForestClassifier\n",
    "from sklearn.ensemble import RandomForestRegressor, GradientBoostingRegressor\n",
    "from sklearn.linear_model import LogisticRegression\n",
    "from sklearn.svm import SVC\n",
    "from sklearn.neighbors import KNeighborsClassifier\n",
    "from sklearn.model_selection import train_test_split\n",
    "from sklearn.preprocessing import OneHotEncoder\n",
    "from sklearn.metrics import accuracy_score\n",
    "from sklearn.linear_model import LinearRegression\n",
    "from sklearn.tree import DecisionTreeRegressor\n",
    "import joblib\n",
    "\n",
    "# Ignore warnings\n",
    "warnings.filterwarnings(\"ignore\")\n"
   ]
  },
  {
   "cell_type": "code",
   "execution_count": 5,
   "id": "8418481d-c636-4cbb-80f4-ce820f00a4b0",
   "metadata": {},
   "outputs": [
    {
     "data": {
      "text/plain": [
       "['knn_quality_model.pkl']"
      ]
     },
     "execution_count": 5,
     "metadata": {},
     "output_type": "execute_result"
    }
   ],
   "source": [
    "\n",
    "# Giả định rằng dữ liệu đã được tải vào DataFrame 'data'\n",
    "# Chọn các cột liên quan cho việc dự đoán chất lượng chi phí điều trị Heart Failure\n",
    "X = data[['Facility_Type', 'Procedure_Heart_Failure_Cost']]  # Đặc trưng\n",
    "y = data['Procedure_Heart_Failure_Quality']  # Nhãn\n",
    "\n",
    "# Mã hóa biến phân loại 'Facility_Type' bằng OneHotEncoder\n",
    "encoder = OneHotEncoder()\n",
    "X_encoded = encoder.fit_transform(X[['Facility_Type']])  # Facility_Type là cột chứa chuỗi\n",
    "\n",
    "# Thay thế cột chuỗi bằng mã hóa one-hot\n",
    "X = X.drop('Facility_Type', axis=1)\n",
    "X_encoded_df = pd.DataFrame(X_encoded.toarray(), index=X.index)  # Chuyển đổi kết quả sang DataFrame\n",
    "X = pd.concat([X, X_encoded_df], axis=1)\n",
    "\n",
    "# Chuyển đổi tất cả tên cột của DataFrame thành kiểu chuỗi\n",
    "X.columns = X.columns.astype(str)\n",
    "\n",
    "# Chia tách tập dữ liệu thành tập huấn luyện và tập kiểm tra\n",
    "X_train, X_test, y_train, y_test = train_test_split(X, y, test_size=0.3, random_state=42)\n",
    "\n",
    "# 1. Random Forest\n",
    "rf = RandomForestClassifier().fit(X_train, y_train)\n",
    "joblib.dump(rf, 'random_forest_quality_model.pkl')\n",
    "\n",
    "# 2. Logistic Regression\n",
    "lr = LogisticRegression(max_iter=1000).fit(X_train, y_train)\n",
    "joblib.dump(lr, 'logistic_regression_quality_model.pkl')\n",
    "\n",
    "# 3. Support Vector Machine\n",
    "svc = SVC().fit(X_train, y_train)\n",
    "joblib.dump(svc, 'svc_quality_model.pkl')\n",
    "\n",
    "# 4. K-Nearest Neighbors\n",
    "knn = KNeighborsClassifier().fit(X_train, y_train)\n",
    "joblib.dump(knn, 'knn_quality_model.pkl')\n"
   ]
  },
  {
   "cell_type": "code",
   "execution_count": 6,
   "id": "3506d3b9-28e6-4e3a-9f7f-0bb40c47335e",
   "metadata": {},
   "outputs": [
    {
     "data": {
      "text/plain": [
       "['knn_classification_model.pkl']"
      ]
     },
     "execution_count": 6,
     "metadata": {},
     "output_type": "execute_result"
    }
   ],
   "source": [
    "X = data[['Rating_Overall', 'Procedure_Heart_Attack_Cost', 'Procedure_Hip_Knee_Cost']]\n",
    "y = data['Facility_Type']\n",
    "\n",
    "X_train, X_test, y_train, y_test = train_test_split(X, y, test_size=0.3, random_state=42)\n",
    "\n",
    "# Random Forest\n",
    "rf = RandomForestClassifier().fit(X_train, y_train)\n",
    "joblib.dump(rf, 'random_forest_classification_model.pkl')\n",
    "\n",
    "# Logistic Regression\n",
    "lr = LogisticRegression().fit(X_train, y_train)\n",
    "joblib.dump(lr, 'logistic_regression_classification_model.pkl')\n",
    "\n",
    "# SVM\n",
    "svm = SVC().fit(X_train, y_train)\n",
    "joblib.dump(svm, 'svm_classification_model.pkl')\n",
    "\n",
    "# KNN\n",
    "knn = KNeighborsClassifier().fit(X_train, y_train)\n",
    "joblib.dump(knn, 'knn_classification_model.pkl')\n"
   ]
  },
  {
   "cell_type": "code",
   "execution_count": 7,
   "id": "c5dc6137-afae-402b-b2be-a6b9e1a52e3c",
   "metadata": {},
   "outputs": [
    {
     "data": {
      "text/plain": [
       "['dbscan_cluster_model.pkl']"
      ]
     },
     "execution_count": 7,
     "metadata": {},
     "output_type": "execute_result"
    }
   ],
   "source": [
    "X = data[['Procedure_Heart_Attack_Cost', 'Procedure_Heart_Failure_Cost', 'Procedure_Hip_Knee_Cost']]\n",
    "X_scaled = StandardScaler().fit_transform(X)\n",
    "\n",
    "# KMeans Clustering\n",
    "kmeans = KMeans(n_clusters=3, random_state=42).fit(X_scaled)\n",
    "joblib.dump(kmeans, 'kmeans_cluster_model.pkl')\n",
    "\n",
    "# DBSCAN Clustering\n",
    "dbscan = DBSCAN().fit(X_scaled)\n",
    "joblib.dump(dbscan, 'dbscan_cluster_model.pkl')\n"
   ]
  },
  {
   "cell_type": "code",
   "execution_count": 8,
   "id": "d70e208f-8ce1-4ae6-ac5f-992770a99a39",
   "metadata": {},
   "outputs": [
    {
     "data": {
      "text/plain": [
       "['random_forest_value_model.pkl']"
      ]
     },
     "execution_count": 8,
     "metadata": {},
     "output_type": "execute_result"
    }
   ],
   "source": [
    "X = data[['Procedure_Heart_Attack_Cost', 'Procedure_Hip_Knee_Cost']]\n",
    "y = data['Rating_Overall']\n",
    "\n",
    "X_train, X_test, y_train, y_test = train_test_split(X, y, test_size=0.3, random_state=42)\n",
    "\n",
    "# Linear Regression\n",
    "lr = LinearRegression().fit(X_train, y_train)\n",
    "joblib.dump(lr, 'linear_regression_value_model.pkl')\n",
    "\n",
    "# Decision Tree Regressor\n",
    "tree = DecisionTreeRegressor().fit(X_train, y_train)\n",
    "joblib.dump(tree, 'decision_tree_value_model.pkl')\n",
    "\n",
    "# Gradient Boosting Regressor\n",
    "gbr = GradientBoostingRegressor().fit(X_train, y_train)\n",
    "joblib.dump(gbr, 'gradient_boosting_value_model.pkl')\n",
    "\n",
    "# Random Forest Regressor\n",
    "rf = RandomForestClassifier().fit(X_train, y_train)\n",
    "joblib.dump(rf, 'random_forest_value_model.pkl')\n"
   ]
  },
  {
   "cell_type": "code",
   "execution_count": 9,
   "id": "22f80fad-04df-443d-843c-e60583a8af29",
   "metadata": {},
   "outputs": [
    {
     "data": {
      "text/plain": [
       "['knn_quality_cost_model.pkl']"
      ]
     },
     "execution_count": 9,
     "metadata": {},
     "output_type": "execute_result"
    }
   ],
   "source": [
    "X = data[['Procedure_Heart_Attack_Cost', 'Procedure_Heart_Failure_Cost', 'Procedure_Hip_Knee_Cost']]\n",
    "y = data['Procedure_Heart_Attack_Quality']\n",
    "\n",
    "X_train, X_test, y_train, y_test = train_test_split(X, y, test_size=0.3, random_state=42)\n",
    "\n",
    "# Random Forest\n",
    "rf = RandomForestClassifier().fit(X_train, y_train)\n",
    "joblib.dump(rf, 'random_forest_quality_cost_model.pkl')\n",
    "\n",
    "# Logistic Regression\n",
    "lr = LogisticRegression().fit(X_train, y_train)\n",
    "joblib.dump(lr, 'logistic_regression_quality_cost_model.pkl')\n",
    "\n",
    "# SVM\n",
    "svm = SVC().fit(X_train, y_train)\n",
    "joblib.dump(svm, 'svm_quality_cost_model.pkl')\n",
    "\n",
    "# KNN\n",
    "knn = KNeighborsClassifier().fit(X_train, y_train)\n",
    "joblib.dump(knn, 'knn_quality_cost_model.pkl')\n"
   ]
  },
  {
   "cell_type": "code",
   "execution_count": null,
   "id": "ca254bcb-b460-4c1d-97b8-2669fce137ca",
   "metadata": {},
   "outputs": [],
   "source": []
  }
 ],
 "metadata": {
  "kernelspec": {
   "display_name": "Python 3 (ipykernel)",
   "language": "python",
   "name": "python3"
  },
  "language_info": {
   "codemirror_mode": {
    "name": "ipython",
    "version": 3
   },
   "file_extension": ".py",
   "mimetype": "text/x-python",
   "name": "python",
   "nbconvert_exporter": "python",
   "pygments_lexer": "ipython3",
   "version": "3.12.4"
  }
 },
 "nbformat": 4,
 "nbformat_minor": 5
}
